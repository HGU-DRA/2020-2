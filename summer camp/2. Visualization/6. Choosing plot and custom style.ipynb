{
 "cells": [
  {
   "cell_type": "markdown",
   "metadata": {},
   "source": [
    "# 6. plot types and custom style\n",
    "- 출처 \n",
    "https://www.kaggle.com/alexisbcook/choosing-plot-types-and-custom-styles"
   ]
  },
  {
   "cell_type": "markdown",
   "metadata": {},
   "source": [
    "### Trends - A trend is defined as a pattern of change.\n",
    "- sns.lineplot - Line charts are best to show trends over a period of time, and multiple lines can be used to show trends in more than one group.\n",
    "- 시간의 흐름을 볼때는 line plot\n",
    "\n",
    "### Relationship - There are many different chart types that you can use to understand relationships between variables in your data.\n",
    "- sns.barplot - Bar charts are useful for comparing quantities corresponding to different groups.(서로다른 그룹의 양 비교)\n",
    "- sns.heatmap - Heatmaps can be used to find color-coded patterns in tables of numbers.(table의 숫자를 color coded 해준다)\n",
    "- sns.scatterplot - Scatter plots show the relationship between two continuous variables; if color-coded, we can also show the relationship with a third categorical variable.(두 연속적인 변수들의 관계 그래프)\n",
    "- sns.regplot - Including a regression line in the scatter plot makes it easier to see any linear relationship between two variables.(scatter plot에 regression line을 같이 그려줘서 비교를 더 쉽게 해준다)\n",
    "- sns.lmplot - This command is useful for drawing multiple regression lines, if the scatter plot contains multiple, color-coded groups.(여러개의 reg line)\n",
    "- sns.swarmplot - Categorical scatter plots show the relationship between a continuous variable and a categorical variable.(categorical 한 scatter plot)\n",
    "\n",
    "### Distribution - We visualize distributions to show the possible values that we can expect to see in a variable, along with how likely they are.\n",
    "- sns.distplot - Histograms show the distribution of a single numerical variable.(히스토그램하나의 numeric 변수에 대해)\n",
    "- sns.kdeplot - KDE plots (or 2D KDE plots) show an estimated, smooth distribution of a single numerical variable (or two numerical variables).(밀도함수)\n",
    "- sns.jointplot - This command is useful for simultaneously displaying a 2D KDE plot with the corresponding KDE plots for each individual variable.(두개의 kde함수를 비교할때 사용하면 편하다)"
   ]
  },
  {
   "cell_type": "markdown",
   "metadata": {},
   "source": [
    "### Style 바꾸기\n",
    "- sns.set_style(\"dark\")"
   ]
  },
  {
   "cell_type": "markdown",
   "metadata": {},
   "source": [
    "### Practice\n",
    "- https://www.kaggle.com/alexisbcook/choosing-plot-types-and-custom-styles"
   ]
  }
 ],
 "metadata": {
  "kernelspec": {
   "display_name": "Python 3.7.6 64-bit ('lab': conda)",
   "language": "python",
   "name": "python37664bitlabconda163a89fe849e448aaed560f035f1f859"
  },
  "language_info": {
   "codemirror_mode": {
    "name": "ipython",
    "version": 3
   },
   "file_extension": ".py",
   "mimetype": "text/x-python",
   "name": "python",
   "nbconvert_exporter": "python",
   "pygments_lexer": "ipython3",
   "version": "3.7.6"
  }
 },
 "nbformat": 4,
 "nbformat_minor": 4
}
